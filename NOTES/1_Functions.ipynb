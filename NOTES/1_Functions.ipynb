{
 "cells": [
  {
   "metadata": {},
   "cell_type": "markdown",
   "source": "🌿🌸🌵🌻🍀🌼🌺🎄🍂✨🌷🌿🌸🌵🌻🍀🌼🌺🎄🍂✨🌷🌿🌸🌵🌻🍀🌼🌺🎄🍂✨🌷🌿🌸🌵🌻🍀🌼🌺🎄🍂✨🌷🌿🌸🌵🌻🍀🌼🌺🎄🍂✨🌷🌿🌸",
   "id": "eacadce8de237f07"
  },
  {
   "metadata": {},
   "cell_type": "markdown",
   "source": [
    "CS61A. Programme structures\n",
    "# 1. Functions"
   ],
   "id": "9f14f8ccbaba6d48"
  },
  {
   "metadata": {},
   "cell_type": "markdown",
   "source": "### Function annotations",
   "id": "782d356ecf3c9df9"
  },
  {
   "metadata": {
    "ExecuteTime": {
     "end_time": "2025-04-26T19:03:19.215184Z",
     "start_time": "2025-04-26T19:03:19.210304Z"
    }
   },
   "cell_type": "code",
   "source": [
    "def pressure(v, t, n=6.022e23):\n",
    "    \"\"\"Compute the pressure in pascals of an ideal gas.\n",
    "\n",
    "    v -- volume of gas, in cubic meters\n",
    "    t -- absolute temperature in degrees kelvin\n",
    "    n -- particles of gas (default: one mole)\n",
    "    \"\"\"\n",
    "    k = 1.38e-23  # Boltzmann's constant\n",
    "    return n * k * t / v"
   ],
   "id": "c87853d77187e42f",
   "outputs": [],
   "execution_count": 2
  },
  {
   "metadata": {
    "ExecuteTime": {
     "end_time": "2025-04-26T19:03:19.299974Z",
     "start_time": "2025-04-26T19:03:19.294275Z"
    }
   },
   "cell_type": "code",
   "source": "help(pressure)",
   "id": "fe4459b9de9c1651",
   "outputs": [
    {
     "name": "stdout",
     "output_type": "stream",
     "text": [
      "Help on function pressure in module __main__:\n",
      "\n",
      "pressure(v, t, n=6.022e+23)\n",
      "    Compute the pressure in pascals of an ideal gas.\n",
      "    \n",
      "    v -- volume of gas, in cubic meters\n",
      "    t -- absolute temperature in degrees kelvin\n",
      "    n -- particles of gas (default: one mole)\n",
      "\n"
     ]
    }
   ],
   "execution_count": 3
  },
  {
   "metadata": {},
   "cell_type": "markdown",
   "source": "🌿🌸🌵🌻🍀🌼🌺🎄🍂✨🌷🌿🌸🌵🌻🍀🌼🌺🎄🍂✨🌷🌿🌸🌵🌻🍀🌼🌺🎄🍂✨🌷🌿🌸🌵🌻🍀🌼🌺🎄🍂✨🌷🌿🌸🌵🌻🍀🌼🌺🎄🍂✨🌷🌿🌸",
   "id": "e19502384e8f1125"
  },
  {
   "metadata": {},
   "cell_type": "markdown",
   "source": [
    "### Iteration - Fibonacci numbers\n",
    "\n",
    "Each number is the sum of the preceding two:\n",
    "\n",
    "0, 1, 1, 2, 3, 5, 8, 13, 21, ..."
   ],
   "id": "67aca224aebc2551"
  },
  {
   "metadata": {
    "ExecuteTime": {
     "end_time": "2025-04-26T19:03:19.386813Z",
     "start_time": "2025-04-26T19:03:19.380896Z"
    }
   },
   "cell_type": "code",
   "source": [
    "def fib(x):\n",
    "    first, second = 0, 1\n",
    "    counter = 3\n",
    "\n",
    "    print(f'1: {first}')\n",
    "    print(f'2: {second}')\n",
    "\n",
    "    while counter <= x:\n",
    "        first, second = second, first + second\n",
    "        print(f'{counter}: {second}')\n",
    "        counter += 1\n",
    "\n",
    "    return second"
   ],
   "id": "7eba4a72cee6422a",
   "outputs": [],
   "execution_count": 4
  },
  {
   "metadata": {
    "ExecuteTime": {
     "end_time": "2025-04-26T19:03:19.456890Z",
     "start_time": "2025-04-26T19:03:19.446357Z"
    }
   },
   "cell_type": "code",
   "source": "fib(11)",
   "id": "2acb66522570855c",
   "outputs": [
    {
     "name": "stdout",
     "output_type": "stream",
     "text": [
      "1: 0\n",
      "2: 1\n",
      "3: 1\n",
      "4: 2\n",
      "5: 3\n",
      "6: 5\n",
      "7: 8\n",
      "8: 13\n",
      "9: 21\n",
      "10: 34\n",
      "11: 55\n"
     ]
    },
    {
     "data": {
      "text/plain": [
       "55"
      ]
     },
     "execution_count": 5,
     "metadata": {},
     "output_type": "execute_result"
    }
   ],
   "execution_count": 5
  },
  {
   "metadata": {
    "ExecuteTime": {
     "end_time": "2025-04-26T19:03:19.547921Z",
     "start_time": "2025-04-26T19:03:19.542264Z"
    }
   },
   "cell_type": "code",
   "source": "assert fib(8) == 13",
   "id": "ec3b52185a12e72f",
   "outputs": [
    {
     "name": "stdout",
     "output_type": "stream",
     "text": [
      "1: 0\n",
      "2: 1\n",
      "3: 1\n",
      "4: 2\n",
      "5: 3\n",
      "6: 5\n",
      "7: 8\n",
      "8: 13\n"
     ]
    }
   ],
   "execution_count": 6
  },
  {
   "metadata": {},
   "cell_type": "markdown",
   "source": "🌿🌸🌵🌻🍀🌼🌺🎄🍂✨🌷🌿🌸🌵🌻🍀🌼🌺🎄🍂✨🌷🌿🌸🌵🌻🍀🌼🌺🎄🍂✨🌷🌿🌸🌵🌻🍀🌼🌺🎄🍂✨🌷🌿🌸🌵🌻🍀🌼🌺🎄🍂✨🌷🌿🌸",
   "id": "3ad0e83867f7c6cf"
  },
  {
   "metadata": {},
   "cell_type": "markdown",
   "source": [
    "### Currying\n",
    "\n",
    "> **Currying** = turning a multi-argument function into a chain of single-argument functions.\n",
    "\n",
    "In more general languages such as Python, currying is useful when we require a function that takes in only a single argument. For example, the map pattern applies a single-argument function to a sequence of values."
   ],
   "id": "187510ad8abc7182"
  },
  {
   "metadata": {},
   "cell_type": "markdown",
   "source": [
    "Suppose you have a function $f(x, y)$ that takes two arguments.\n",
    "Currying lets you turn it into a function $g(x)$, which returns another function that takes $y$."
   ],
   "id": "a3d7afde1c23e3e1"
  },
  {
   "metadata": {
    "ExecuteTime": {
     "end_time": "2025-04-26T19:03:19.636308Z",
     "start_time": "2025-04-26T19:03:19.627818Z"
    }
   },
   "cell_type": "code",
   "source": [
    "def curried_pow(x):\n",
    "    def h(y):\n",
    "        return pow(x, y)\n",
    "    return h\n",
    "\n",
    "curried_pow(2)(3)"
   ],
   "id": "de1b3040c64a0c8a",
   "outputs": [
    {
     "data": {
      "text/plain": [
       "8"
      ]
     },
     "execution_count": 7,
     "metadata": {},
     "output_type": "execute_result"
    }
   ],
   "execution_count": 7
  },
  {
   "metadata": {},
   "cell_type": "markdown",
   "source": [
    "Why is this useful?\n",
    "\n",
    "* Some languages (like Haskell) only allow single-argument functions.\n",
    "* In Python, it's useful when you want a function that takes only one input (for example, in map)."
   ],
   "id": "efb88147918341ab"
  },
  {
   "metadata": {
    "ExecuteTime": {
     "end_time": "2025-04-26T19:03:19.678942Z",
     "start_time": "2025-04-26T19:03:19.671623Z"
    }
   },
   "cell_type": "code",
   "source": [
    "def map_to_range(start, end, f):\n",
    "    while start < end:\n",
    "        print(f(start))\n",
    "        start += 1\n",
    "\n",
    "map_to_range(0, 10, curried_pow(2))"
   ],
   "id": "a5198022bd942c53",
   "outputs": [
    {
     "name": "stdout",
     "output_type": "stream",
     "text": [
      "1\n",
      "2\n",
      "4\n",
      "8\n",
      "16\n",
      "32\n",
      "64\n",
      "128\n",
      "256\n",
      "512\n"
     ]
    }
   ],
   "execution_count": 8
  },
  {
   "metadata": {},
   "cell_type": "markdown",
   "source": [
    "### Lambda expressions\n",
    "\n",
    ">**lambda** = create small, unnamed functions quickly.\n",
    "\n",
    "lambda creates a function \"on the fly\" without needing to name it."
   ],
   "id": "495551e1320b82ba"
  },
  {
   "metadata": {
    "ExecuteTime": {
     "end_time": "2025-04-26T19:03:19.775898Z",
     "start_time": "2025-04-26T19:03:19.767363Z"
    }
   },
   "cell_type": "code",
   "source": [
    "def square(x):\n",
    "    return x * x\n",
    "\n",
    "square = lambda x: x * x\n",
    "square(5)"
   ],
   "id": "b3130fab4ddd4c3d",
   "outputs": [
    {
     "data": {
      "text/plain": [
       "25"
      ]
     },
     "execution_count": 9,
     "metadata": {},
     "output_type": "execute_result"
    }
   ],
   "execution_count": 9
  },
  {
   "metadata": {},
   "cell_type": "markdown",
   "source": [
    "### Decorator\n",
    "Special way to modify a function when you define it"
   ],
   "id": "9224dc5f4e009790"
  },
  {
   "metadata": {
    "ExecuteTime": {
     "end_time": "2025-04-26T19:03:19.837012Z",
     "start_time": "2025-04-26T19:03:19.832094Z"
    }
   },
   "cell_type": "code",
   "source": [
    "def trace(fn):\n",
    "    def wrapped(x):\n",
    "        print('-> ', fn, '(', x, ')')\n",
    "        return fn(x)\n",
    "    return wrapped"
   ],
   "id": "2b93bf3a2f0474ba",
   "outputs": [],
   "execution_count": 10
  },
  {
   "metadata": {
    "ExecuteTime": {
     "end_time": "2025-04-26T19:03:19.888045Z",
     "start_time": "2025-04-26T19:03:19.882847Z"
    }
   },
   "cell_type": "code",
   "source": [
    "@trace\n",
    "def triple(x):\n",
    "    return x*3"
   ],
   "id": "ac5fcd4108b7084a",
   "outputs": [],
   "execution_count": 11
  },
  {
   "metadata": {
    "ExecuteTime": {
     "end_time": "2025-04-26T19:06:10.518026Z",
     "start_time": "2025-04-26T19:06:10.508141Z"
    }
   },
   "cell_type": "code",
   "source": "triple(12)",
   "id": "cb3f422486a84a4b",
   "outputs": [
    {
     "name": "stdout",
     "output_type": "stream",
     "text": [
      "->  <function triple at 0x00000210F4436DE0> ( 12 )\n"
     ]
    },
    {
     "data": {
      "text/plain": [
       "36"
      ]
     },
     "execution_count": 13,
     "metadata": {},
     "output_type": "execute_result"
    }
   ],
   "execution_count": 13
  }
 ],
 "metadata": {},
 "nbformat": 4,
 "nbformat_minor": 5
}
