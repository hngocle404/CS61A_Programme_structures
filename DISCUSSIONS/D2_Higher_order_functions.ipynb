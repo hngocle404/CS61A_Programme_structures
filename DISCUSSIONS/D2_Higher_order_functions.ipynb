{
 "cells": [
  {
   "metadata": {},
   "cell_type": "markdown",
   "source": "# Discussion 2. Higher-order functions",
   "id": "6e70e6daf637da83"
  },
  {
   "metadata": {},
   "cell_type": "markdown",
   "source": [
    "### Question 3. Digit finder\n",
    "\n",
    "Implement `find_digit`, which takes in a positive integer k and returns a function that takes in a positive integer x and returns the kth digit from the right of x. If x has fewer than k digits, it returns 0.\n",
    "\n",
    "For example, in the number 4567, 7 is the 1st digit from the right, 6 is the 2nd digit from the right, and the 5th digit from the right is 0 (since there are only 4 digits).\n",
    "\n",
    "**Important**: You may not use strings or indexing for this problem. Try to solve this problem using only one line."
   ],
   "id": "476533c02c494010"
  },
  {
   "metadata": {
    "ExecuteTime": {
     "end_time": "2025-05-03T16:57:05.797896Z",
     "start_time": "2025-05-03T16:57:05.788701Z"
    }
   },
   "cell_type": "code",
   "source": [
    "# method 1. Using string (less efficient & NOT ALLOWED):\n",
    "\n",
    "def find_digit(k):\n",
    "    assert k > 0 and isinstance(k, int), 'k must be a positive integer.'\n",
    "    def helper(x):\n",
    "        string = str(x)\n",
    "        if k-1 > len(string):\n",
    "            return(0)\n",
    "        else:\n",
    "            return int(string[k-1])\n",
    "    return helper"
   ],
   "id": "4b72ab5ba867ddfd",
   "outputs": [],
   "execution_count": 10
  },
  {
   "metadata": {
    "ExecuteTime": {
     "end_time": "2025-05-03T16:57:08.439753Z",
     "start_time": "2025-05-03T16:57:08.430891Z"
    }
   },
   "cell_type": "code",
   "source": [
    "print(find_digit(3)(984721))\n",
    "print(find_digit(404)(984721))"
   ],
   "id": "7b9560c565bbbcbf",
   "outputs": [
    {
     "name": "stdout",
     "output_type": "stream",
     "text": [
      "4\n",
      "0\n"
     ]
    }
   ],
   "execution_count": 11
  },
  {
   "metadata": {
    "ExecuteTime": {
     "end_time": "2025-05-03T16:49:17.019901Z",
     "start_time": "2025-05-03T16:49:17.008688Z"
    }
   },
   "cell_type": "code",
   "source": [
    "# method 2. Using modulo (more mathy & efficient)\n",
    "\n",
    "def find_digit(k):\n",
    "    assert k > 0 and isinstance(k, int), 'k must be a positive integer.'\n",
    "    # in case the specified k > the number of digits of n\n",
    "    if pow(10, k-1) > n:\n",
    "        return 0\n",
    "\n",
    "    def helper(x):\n",
    "        i == 10\n",
    "        while i <= pow(10, x):\n",
    "            print(i)\n",
    "            i += 1\n",
    "            idk = x%i\n",
    "            print(idk)\n",
    "\n",
    "    return helper"
   ],
   "id": "8ad682b34d40764d",
   "outputs": [],
   "execution_count": 3
  },
  {
   "metadata": {
    "ExecuteTime": {
     "end_time": "2025-05-03T16:49:18.305214Z",
     "start_time": "2025-05-03T16:49:17.068979Z"
    }
   },
   "cell_type": "code",
   "source": [
    "i = 10\n",
    "while i <= pow(10, len(4334535246)):\n",
    "    print(i)\n",
    "    i += 1\n",
    "    idk = x%i\n",
    "    print(idk)"
   ],
   "id": "73e29976dad2c349",
   "outputs": [
    {
     "ename": "TypeError",
     "evalue": "object of type 'int' has no len()",
     "output_type": "error",
     "traceback": [
      "\u001B[31m---------------------------------------------------------------------------\u001B[39m",
      "\u001B[31mTypeError\u001B[39m                                 Traceback (most recent call last)",
      "\u001B[36mCell\u001B[39m\u001B[36m \u001B[39m\u001B[32mIn[4]\u001B[39m\u001B[32m, line 2\u001B[39m\n\u001B[32m      1\u001B[39m i = \u001B[32m10\u001B[39m\n\u001B[32m----> \u001B[39m\u001B[32m2\u001B[39m \u001B[38;5;28;01mwhile\u001B[39;00m i <= \u001B[38;5;28mpow\u001B[39m(\u001B[32m10\u001B[39m, \u001B[38;5;28;43mlen\u001B[39;49m\u001B[43m(\u001B[49m\u001B[32;43m4334535246\u001B[39;49m\u001B[43m)\u001B[49m):\n\u001B[32m      3\u001B[39m     \u001B[38;5;28mprint\u001B[39m(i)\n\u001B[32m      4\u001B[39m     i += \u001B[32m1\u001B[39m\n",
      "\u001B[31mTypeError\u001B[39m: object of type 'int' has no len()"
     ]
    }
   ],
   "execution_count": 4
  }
 ],
 "metadata": {},
 "nbformat": 4,
 "nbformat_minor": 5
}
