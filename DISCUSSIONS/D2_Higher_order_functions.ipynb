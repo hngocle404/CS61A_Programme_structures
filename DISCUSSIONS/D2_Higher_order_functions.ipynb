{
 "cells": [
  {
   "metadata": {},
   "cell_type": "markdown",
   "source": "# Discussion 2. Higher-order functions",
   "id": "6e70e6daf637da83"
  },
  {
   "metadata": {},
   "cell_type": "markdown",
   "source": [
    "### Question 3. Digit finder\n",
    "\n",
    "Implement `find_digit`, which takes in a positive integer k and returns a function that takes in a positive integer x and returns the kth digit from the right of x. If x has fewer than k digits, it returns 0.\n",
    "\n",
    "For example, in the number 4567, 7 is the 1st digit from the right, 6 is the 2nd digit from the right, and the 5th digit from the right is 0 (since there are only 4 digits).\n",
    "\n",
    "**Important**: You may not use strings or indexing for this problem. Try to solve this problem using only one line."
   ],
   "id": "476533c02c494010"
  },
  {
   "metadata": {},
   "cell_type": "code",
   "source": [
    "# method 1. Using string (less efficient & NOT ALLOWED):\n",
    "\n",
    "def find_digit_str(k):\n",
    "    assert k > 0 and isinstance(k, int), 'k must be a positive integer.'\n",
    "    def helper(x):\n",
    "        string = str(x)\n",
    "        if k > len(string):\n",
    "            return(0)\n",
    "        else:\n",
    "            return int(string[k])\n",
    "    return helper"
   ],
   "id": "4b72ab5ba867ddfd",
   "outputs": [],
   "execution_count": null
  },
  {
   "metadata": {},
   "cell_type": "code",
   "source": [
    "print(find_digit_str(3)(984721))\n",
    "print(find_digit_str(404)(984721))\n",
    "print(find_digit_str(4)(789))"
   ],
   "id": "7b9560c565bbbcbf",
   "outputs": [],
   "execution_count": null
  },
  {
   "metadata": {},
   "cell_type": "code",
   "source": [
    "# method 2. Using modulo (more mathy & efficient)\n",
    "\n",
    "def find_digit(k):\n",
    "    assert k > 0 and isinstance(k, int), 'k must be a positive integer.'\n",
    "    return lambda n: n%pow(10, k)//pow(10, k-1)"
   ],
   "id": "8ad682b34d40764d",
   "outputs": [],
   "execution_count": null
  },
  {
   "metadata": {},
   "cell_type": "code",
   "source": [
    "print(find_digit(3)(984721))\n",
    "print(find_digit(404)(984721))\n",
    "print(find_digit(4)(789))"
   ],
   "id": "6276343d4018a7eb",
   "outputs": [],
   "execution_count": null
  },
  {
   "metadata": {},
   "cell_type": "markdown",
   "source": [
    "### Question 4. Match maker\n",
    "\n",
    "Implement `match_k`, which takes in an integer k and returns a function that takes in a variable x and returns True if all the digits in x that are k apart are the same.\n",
    "\n",
    "For example, `match_k(2)` returns a one argument function that takes in x and checks if digits that are 2 away in x are the same. `match_k(2)(1010)` has the value of x = 1010 and digits 1, 0, 1, 0 going from left to right. 1 == 1 and 0 == 0, so the match_k(2)(1010) results in True.\n",
    "\n",
    "`match_k(2)(2010)` has the value of x = 2010 and digits 2, 0, 1, 0 going from left to right. 2 != 1 and 0 == 0, so the match_k(2)(2010) results in False.\n",
    "\n",
    "**Important**: You may not use strings or indexing for this problem."
   ],
   "id": "99bc2fb01e6d8b6c"
  },
  {
   "metadata": {
    "ExecuteTime": {
     "end_time": "2025-05-03T20:36:25.863900Z",
     "start_time": "2025-05-03T20:36:25.855233Z"
    }
   },
   "cell_type": "code",
   "source": [
    "def match_k(k):\n",
    "    def helper(n):\n",
    "        num_digit = 0\n",
    "        num = n\n",
    "        while num > 0:\n",
    "            num = num // 10\n",
    "            num_digit = num_digit + 1\n",
    "\n",
    "        parts = []\n",
    "        for i in range(0, num_digit, k):\n",
    "            part = n // pow(10, i) % 10**(k)\n",
    "            for prev in parts:\n",
    "                if part != prev:\n",
    "                    return False\n",
    "            parts.append(part)\n",
    "        return True\n",
    "    return helper"
   ],
   "id": "e9fe99da667a9644",
   "outputs": [],
   "execution_count": 35
  },
  {
   "metadata": {
    "ExecuteTime": {
     "end_time": "2025-05-03T20:37:17.543497Z",
     "start_time": "2025-05-03T20:37:17.535250Z"
    }
   },
   "cell_type": "code",
   "source": [
    "print(match_k(3)(123456789123456))\n",
    "print(match_k(3)(123123123123123))\n",
    "print(match_k(2)(123123))\n",
    "print(match_k(3)(123123))\n",
    "print(match_k(1)(2111111111111111))\n",
    "print(match_k(2)(1010))"
   ],
   "id": "d9f00120b211f373",
   "outputs": [
    {
     "name": "stdout",
     "output_type": "stream",
     "text": [
      "False\n",
      "True\n",
      "False\n",
      "True\n",
      "False\n",
      "True\n"
     ]
    }
   ],
   "execution_count": 38
  }
 ],
 "metadata": {},
 "nbformat": 4,
 "nbformat_minor": 5
}
