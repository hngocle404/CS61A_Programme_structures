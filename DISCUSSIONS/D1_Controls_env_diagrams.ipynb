{
 "cells": [
  {
   "metadata": {},
   "cell_type": "markdown",
   "source": "# Lab 1. Controls & environment diagrams",
   "id": "94ff6d7c9b0af8b"
  },
  {
   "metadata": {},
   "cell_type": "markdown",
   "source": [
    "### Question 1. Race\n",
    "The race function below sometimes returns the wrong value and sometimes runs forever.\n",
    "\n",
    "Find positive integers x and y (with y larger than x but not larger than 2 * x) for which either:\n",
    "- race(x, y) returns the wrong value or\n",
    "- race(x, y) runs forever\n",
    "\n",
    "You just need to find one pair of numbers that satisfies either of these conditions to finish the question, but if you want to think of more you can.\n",
    "\n",
    "Notes:\n",
    "- x += 1 is the same as x = x + 1 when x is assigned to a number.\n",
    "- 0 is a false value and all other numbers are true values."
   ],
   "id": "cd7792c9790cdb18"
  },
  {
   "metadata": {
    "ExecuteTime": {
     "end_time": "2025-04-28T20:26:23.498534Z",
     "start_time": "2025-04-28T20:26:23.490700Z"
    }
   },
   "cell_type": "code",
   "source": [
    "def race(x, y):\n",
    "    \"\"\"The tortoise always walks x feet per minute, while the hare repeatedly runs y feet per minute for 5 minutes, then rests for 5 minutes. Return how many minutes pass until the tortoise first catches up to the hare.\n",
    "\n",
    "    >>> race(5, 7)  # After 7 minutes, both have gone 35 steps\n",
    "    7\n",
    "    >>> race(2, 4) # After 10 minutes, both have gone 20 steps\n",
    "    10\n",
    "    \"\"\"\n",
    "    assert y > x and y <= 2 * x, \\\n",
    "        'the hare must be fast but not too fast'\n",
    "    tortoise, hare, minutes = 0, 0, 0\n",
    "    while minutes == 0 or tortoise - hare:\n",
    "        tortoise += x\n",
    "        if minutes % 10 < 5:\n",
    "            hare += y\n",
    "        minutes += 1\n",
    "    return minutes"
   ],
   "id": "7fb972fef2269689",
   "outputs": [],
   "execution_count": 30
  },
  {
   "metadata": {
    "ExecuteTime": {
     "end_time": "2025-04-28T20:27:28.672304Z",
     "start_time": "2025-04-28T20:27:28.666903Z"
    }
   },
   "cell_type": "code",
   "source": "race(60, 120)",
   "id": "95f7c27059449a24",
   "outputs": [
    {
     "data": {
      "text/plain": [
       "10"
      ]
     },
     "execution_count": 33,
     "metadata": {},
     "output_type": "execute_result"
    }
   ],
   "execution_count": 33
  },
  {
   "metadata": {},
   "cell_type": "markdown",
   "source": [
    "### Question 2. Fizzbuzz\n",
    "\n",
    "Implement the classic Fizz Buzz sequence. The `fizzbuzz` function takes a positive integer n and prints out a single line for each integer from 1 to n. For each i:\n",
    "\n",
    "- If i is divisible by both 3 and 5, print fizzbuzz.\n",
    "- If i is divisible by 3 (but not 5), print fizz.\n",
    "- If i is divisible by 5 (but not 3), print buzz.\n",
    "- Otherwise, print the number i."
   ],
   "id": "b9710e0aed5cdf35"
  },
  {
   "metadata": {
    "ExecuteTime": {
     "end_time": "2025-04-28T20:42:55.061658Z",
     "start_time": "2025-04-28T20:42:55.056021Z"
    }
   },
   "cell_type": "code",
   "source": [
    "def fizzbuzz(n):\n",
    "    assert n > 0 and n%1 == 0, 'n must be a positive integer'\n",
    "    for i in range(1, n+1):\n",
    "        if i%3 == 0 and i%5 == 0:\n",
    "            print('fizzbuzz')\n",
    "        elif i%3 == 0 and i%5 != 0:\n",
    "            print('fizz')\n",
    "        elif i%5 == 0 and i%3 != 0:\n",
    "            print('buzz')\n",
    "        else:\n",
    "            print(i)\n",
    "\n",
    "fizzbuzz(18)"
   ],
   "id": "9c0f8f203d34adfb",
   "outputs": [
    {
     "name": "stdout",
     "output_type": "stream",
     "text": [
      "1\n",
      "2\n",
      "fizz\n",
      "4\n",
      "buzz\n",
      "fizz\n",
      "7\n",
      "8\n",
      "fizz\n",
      "buzz\n",
      "11\n",
      "fizz\n",
      "13\n",
      "14\n",
      "fizzbuzz\n",
      "16\n",
      "17\n",
      "fizz\n"
     ]
    }
   ],
   "execution_count": 47
  },
  {
   "metadata": {},
   "cell_type": "markdown",
   "source": "Solution (more concise):",
   "id": "38d3066ac52f1cdc"
  },
  {
   "metadata": {
    "ExecuteTime": {
     "end_time": "2025-04-28T20:42:45.833293Z",
     "start_time": "2025-04-28T20:42:45.828153Z"
    }
   },
   "cell_type": "code",
   "source": [
    "def fizzbuzz(n):\n",
    "    assert n > 0 and n%1 == 0, 'n must be a positive integer'\n",
    "    i = 1\n",
    "    while i <= n:\n",
    "        if i%3 == 0 and i%5 == 0:\n",
    "            print('fizzbuzz')\n",
    "        elif i%3 == 0:\n",
    "            print('fizz')\n",
    "        elif i%5 == 0:\n",
    "            print('buzz')\n",
    "        else:\n",
    "            print(i)\n",
    "        i += 1\n",
    "\n",
    "fizzbuzz(16)"
   ],
   "id": "8abe4f12e295671a",
   "outputs": [
    {
     "name": "stdout",
     "output_type": "stream",
     "text": [
      "1\n",
      "2\n",
      "fizz\n",
      "4\n",
      "buzz\n",
      "fizz\n",
      "7\n",
      "8\n",
      "fizz\n",
      "buzz\n",
      "11\n",
      "fizz\n",
      "13\n",
      "14\n",
      "fizzbuzz\n",
      "16\n"
     ]
    }
   ],
   "execution_count": 46
  },
  {
   "metadata": {},
   "cell_type": "markdown",
   "source": "ChatGPT solution:",
   "id": "406a83f7749b82f3"
  },
  {
   "metadata": {
    "ExecuteTime": {
     "end_time": "2025-04-28T20:43:34.003306Z",
     "start_time": "2025-04-28T20:43:33.996479Z"
    }
   },
   "cell_type": "code",
   "source": [
    "def fizzbuzz(n):\n",
    "    assert n > 0 and n % 1 == 0, 'n must be a positive integer'\n",
    "    for i in range(1, n+1):\n",
    "        output = ''\n",
    "        if i % 3 == 0:\n",
    "            output += 'fizz'\n",
    "        if i % 5 == 0:\n",
    "            output += 'buzz'\n",
    "        print(output or i)\n",
    "\n",
    "fizzbuzz(16)"
   ],
   "id": "7808484b6ae6b8a",
   "outputs": [
    {
     "name": "stdout",
     "output_type": "stream",
     "text": [
      "1\n",
      "2\n",
      "fizz\n",
      "4\n",
      "buzz\n",
      "fizz\n",
      "7\n",
      "8\n",
      "fizz\n",
      "buzz\n",
      "11\n",
      "fizz\n",
      "13\n",
      "14\n",
      "fizzbuzz\n",
      "16\n"
     ]
    }
   ],
   "execution_count": 49
  },
  {
   "metadata": {},
   "cell_type": "markdown",
   "source": [
    "### Question 3: Prime\n",
    "\n",
    "Write a function that returns True if a positive integer n is a prime number and False otherwise.\n",
    "\n",
    "A prime number n is a number that is not divisible by any numbers other than 1 and n itself. For example, 13 is prime, since it is only divisible by 1 and 13, but 14 is not, since it is divisible by 1, 2, 7, and 14."
   ],
   "id": "32954e0daadd20ac"
  },
  {
   "metadata": {
    "ExecuteTime": {
     "end_time": "2025-04-28T20:58:03.185779Z",
     "start_time": "2025-04-28T20:58:03.180078Z"
    }
   },
   "cell_type": "code",
   "source": [
    "def is_prime(n):\n",
    "    if n == 1:\n",
    "        return False\n",
    "    if n == 2:\n",
    "        return True\n",
    "    k = 2\n",
    "    while k <= n:\n",
    "        if n%k == 0:\n",
    "            return False\n",
    "        else:\n",
    "            return True"
   ],
   "id": "b1db8bf1ec2daa12",
   "outputs": [],
   "execution_count": 96
  },
  {
   "metadata": {
    "ExecuteTime": {
     "end_time": "2025-04-28T20:58:03.436313Z",
     "start_time": "2025-04-28T20:58:03.430715Z"
    }
   },
   "cell_type": "code",
   "source": "is_prime(17)",
   "id": "40f9e3098b94e7f9",
   "outputs": [
    {
     "data": {
      "text/plain": [
       "True"
      ]
     },
     "execution_count": 97,
     "metadata": {},
     "output_type": "execute_result"
    }
   ],
   "execution_count": 97
  },
  {
   "metadata": {},
   "cell_type": "markdown",
   "source": [
    "### Question 4. Unique digits\n",
    "\n",
    "Write a function that returns the number of unique digits in a positive integer."
   ],
   "id": "e6fb2cd76466cbf0"
  },
  {
   "metadata": {
    "ExecuteTime": {
     "end_time": "2025-04-28T21:37:57.668494Z",
     "start_time": "2025-04-28T21:37:57.663691Z"
    }
   },
   "cell_type": "code",
   "source": [
    "def unique_digit(n):\n",
    "    output = []\n",
    "    record = []\n",
    "    unique_count = 0\n",
    "    assert n > 0 & n%1 == 0, 'n must be a positive integer'\n",
    "    for i in str(n):\n",
    "        output.append(i)\n",
    "    for i in str(n):\n",
    "        if i not in record:\n",
    "            record.append(i)\n",
    "            unique_count += 1\n",
    "        else:\n",
    "            unique_count += 0\n",
    "    return unique_count"
   ],
   "id": "1d7484a058d85b00",
   "outputs": [],
   "execution_count": 116
  },
  {
   "metadata": {
    "ExecuteTime": {
     "end_time": "2025-04-28T21:38:20.602069Z",
     "start_time": "2025-04-28T21:38:20.595864Z"
    }
   },
   "cell_type": "code",
   "source": "unique_digit(494742)",
   "id": "808005ffbaed56cb",
   "outputs": [
    {
     "data": {
      "text/plain": [
       "4"
      ]
     },
     "execution_count": 120,
     "metadata": {},
     "output_type": "execute_result"
    }
   ],
   "execution_count": 120
  },
  {
   "metadata": {},
   "cell_type": "markdown",
   "source": [
    "### Question 7. Repeating\n",
    "\n",
    "**Definition**: A positive integer n is a repeating sequence of positive integer m if n is written by repeating the digits of m one or more times. For example, 616161 is a repeating sequence of 61, but 61616 is not.\n",
    "\n",
    "Implement `repeating` which takes positive integers t and n. It returns whether n is a repeating sequence of some t-digit integer."
   ],
   "id": "977b766dfa0a0eb2"
  },
  {
   "metadata": {
    "ExecuteTime": {
     "end_time": "2025-04-28T21:46:50.929611Z",
     "start_time": "2025-04-28T21:46:50.919049Z"
    }
   },
   "cell_type": "code",
   "source": [
    "def repeating(t, n):\n",
    "    \"\"\"Return whether t digits repeat to form positive integer n.\"\"\"\n",
    "    assert t%1==0 & n%1== 0 & t>0 & n>0, \"t and n must be positive integers\""
   ],
   "id": "3061fb5c5c0fd35f",
   "outputs": [],
   "execution_count": 121
  },
  {
   "metadata": {},
   "cell_type": "code",
   "outputs": [],
   "execution_count": null,
   "source": "",
   "id": "95c6adf2cbc33bb"
  }
 ],
 "metadata": {},
 "nbformat": 4,
 "nbformat_minor": 5
}
