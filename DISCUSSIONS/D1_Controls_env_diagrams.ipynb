{
 "cells": [
  {
   "metadata": {},
   "cell_type": "markdown",
   "source": "# Lab 1. Controls & environment diagrams",
   "id": "94ff6d7c9b0af8b"
  },
  {
   "metadata": {},
   "cell_type": "markdown",
   "source": [
    "### Question 1. Race\n",
    "The race function below sometimes returns the wrong value and sometimes runs forever.\n",
    "\n",
    "Find positive integers x and y (with y larger than x but not larger than 2 * x) for which either:\n",
    "- race(x, y) returns the wrong value or\n",
    "- race(x, y) runs forever\n",
    "\n",
    "You just need to find one pair of numbers that satisfies either of these conditions to finish the question, but if you want to think of more you can.\n",
    "\n",
    "Notes:\n",
    "- x += 1 is the same as x = x + 1 when x is assigned to a number.\n",
    "- 0 is a false value and all other numbers are true values."
   ],
   "id": "cd7792c9790cdb18"
  },
  {
   "metadata": {
    "ExecuteTime": {
     "end_time": "2025-04-29T13:54:21.296274Z",
     "start_time": "2025-04-29T13:54:21.284429Z"
    }
   },
   "cell_type": "code",
   "source": [
    "def race(x, y):\n",
    "    \"\"\"The tortoise always walks x feet per minute, while the hare repeatedly runs y feet per minute for 5 minutes, then rests for 5 minutes. Return how many minutes pass until the tortoise first catches up to the hare.\n",
    "\n",
    "    >>> race(5, 7)  # After 7 minutes, both have gone 35 steps\n",
    "    7\n",
    "    >>> race(2, 4) # After 10 minutes, both have gone 20 steps\n",
    "    10\n",
    "    \"\"\"\n",
    "    assert y > x and y <= 2 * x, \\\n",
    "        'the hare must be fast but not too fast'\n",
    "    tortoise, hare, minutes = 0, 0, 0\n",
    "    while minutes == 0 or tortoise - hare:\n",
    "        tortoise += x\n",
    "        if minutes % 10 < 5:\n",
    "            hare += y\n",
    "        minutes += 1\n",
    "    return minutes"
   ],
   "id": "7fb972fef2269689",
   "outputs": [],
   "execution_count": 125
  },
  {
   "metadata": {
    "ExecuteTime": {
     "end_time": "2025-04-29T13:54:21.343306Z",
     "start_time": "2025-04-29T13:54:21.332482Z"
    }
   },
   "cell_type": "code",
   "source": "race(60, 120)",
   "id": "95f7c27059449a24",
   "outputs": [
    {
     "data": {
      "text/plain": [
       "10"
      ]
     },
     "execution_count": 126,
     "metadata": {},
     "output_type": "execute_result"
    }
   ],
   "execution_count": 126
  },
  {
   "metadata": {},
   "cell_type": "markdown",
   "source": [
    "### Question 2. Fizzbuzz\n",
    "\n",
    "Implement the classic Fizz Buzz sequence. The `fizzbuzz` function takes a positive integer n and prints out a single line for each integer from 1 to n. For each i:\n",
    "\n",
    "- If i is divisible by both 3 and 5, print fizzbuzz.\n",
    "- If i is divisible by 3 (but not 5), print fizz.\n",
    "- If i is divisible by 5 (but not 3), print buzz.\n",
    "- Otherwise, print the number i."
   ],
   "id": "b9710e0aed5cdf35"
  },
  {
   "metadata": {
    "ExecuteTime": {
     "end_time": "2025-04-29T13:54:21.408337Z",
     "start_time": "2025-04-29T13:54:21.399187Z"
    }
   },
   "cell_type": "code",
   "source": [
    "def fizzbuzz(n):\n",
    "    assert n > 0 and n%1 == 0, 'n must be a positive integer'\n",
    "    for i in range(1, n+1):\n",
    "        if i%3 == 0 and i%5 == 0:\n",
    "            print('fizzbuzz')\n",
    "        elif i%3 == 0 and i%5 != 0:\n",
    "            print('fizz')\n",
    "        elif i%5 == 0 and i%3 != 0:\n",
    "            print('buzz')\n",
    "        else:\n",
    "            print(i)\n",
    "\n",
    "fizzbuzz(18)"
   ],
   "id": "9c0f8f203d34adfb",
   "outputs": [
    {
     "name": "stdout",
     "output_type": "stream",
     "text": [
      "1\n",
      "2\n",
      "fizz\n",
      "4\n",
      "buzz\n",
      "fizz\n",
      "7\n",
      "8\n",
      "fizz\n",
      "buzz\n",
      "11\n",
      "fizz\n",
      "13\n",
      "14\n",
      "fizzbuzz\n",
      "16\n",
      "17\n",
      "fizz\n"
     ]
    }
   ],
   "execution_count": 127
  },
  {
   "metadata": {},
   "cell_type": "markdown",
   "source": "Solution (more concise):",
   "id": "38d3066ac52f1cdc"
  },
  {
   "metadata": {
    "ExecuteTime": {
     "end_time": "2025-04-29T13:54:21.453119Z",
     "start_time": "2025-04-29T13:54:21.443874Z"
    }
   },
   "cell_type": "code",
   "source": [
    "def fizzbuzz(n):\n",
    "    assert n > 0 and n%1 == 0, 'n must be a positive integer'\n",
    "    i = 1\n",
    "    while i <= n:\n",
    "        if i%3 == 0 and i%5 == 0:\n",
    "            print('fizzbuzz')\n",
    "        elif i%3 == 0:\n",
    "            print('fizz')\n",
    "        elif i%5 == 0:\n",
    "            print('buzz')\n",
    "        else:\n",
    "            print(i)\n",
    "        i += 1\n",
    "\n",
    "fizzbuzz(16)"
   ],
   "id": "8abe4f12e295671a",
   "outputs": [
    {
     "name": "stdout",
     "output_type": "stream",
     "text": [
      "1\n",
      "2\n",
      "fizz\n",
      "4\n",
      "buzz\n",
      "fizz\n",
      "7\n",
      "8\n",
      "fizz\n",
      "buzz\n",
      "11\n",
      "fizz\n",
      "13\n",
      "14\n",
      "fizzbuzz\n",
      "16\n"
     ]
    }
   ],
   "execution_count": 128
  },
  {
   "metadata": {},
   "cell_type": "markdown",
   "source": "ChatGPT solution:",
   "id": "406a83f7749b82f3"
  },
  {
   "metadata": {
    "ExecuteTime": {
     "end_time": "2025-04-29T13:54:21.501395Z",
     "start_time": "2025-04-29T13:54:21.494401Z"
    }
   },
   "cell_type": "code",
   "source": [
    "def fizzbuzz(n):\n",
    "    assert n > 0 and n % 1 == 0, 'n must be a positive integer'\n",
    "    for i in range(1, n+1):\n",
    "        output = ''\n",
    "        if i % 3 == 0:\n",
    "            output += 'fizz'\n",
    "        if i % 5 == 0:\n",
    "            output += 'buzz'\n",
    "        print(output or i)\n",
    "\n",
    "fizzbuzz(16)"
   ],
   "id": "7808484b6ae6b8a",
   "outputs": [
    {
     "name": "stdout",
     "output_type": "stream",
     "text": [
      "1\n",
      "2\n",
      "fizz\n",
      "4\n",
      "buzz\n",
      "fizz\n",
      "7\n",
      "8\n",
      "fizz\n",
      "buzz\n",
      "11\n",
      "fizz\n",
      "13\n",
      "14\n",
      "fizzbuzz\n",
      "16\n"
     ]
    }
   ],
   "execution_count": 129
  },
  {
   "metadata": {},
   "cell_type": "markdown",
   "source": [
    "### Question 3: Prime\n",
    "\n",
    "Write a function that returns True if a positive integer n is a prime number and False otherwise.\n",
    "\n",
    "A prime number n is a number that is not divisible by any numbers other than 1 and n itself. For example, 13 is prime, since it is only divisible by 1 and 13, but 14 is not, since it is divisible by 1, 2, 7, and 14."
   ],
   "id": "32954e0daadd20ac"
  },
  {
   "metadata": {
    "ExecuteTime": {
     "end_time": "2025-04-29T13:54:21.547233Z",
     "start_time": "2025-04-29T13:54:21.539732Z"
    }
   },
   "cell_type": "code",
   "source": [
    "def is_prime(n):\n",
    "    if n == 1:\n",
    "        return False\n",
    "    if n == 2:\n",
    "        return True\n",
    "    k = 2\n",
    "    while k <= n:\n",
    "        if n%k == 0:\n",
    "            return False\n",
    "        else:\n",
    "            return True"
   ],
   "id": "b1db8bf1ec2daa12",
   "outputs": [],
   "execution_count": 130
  },
  {
   "metadata": {
    "ExecuteTime": {
     "end_time": "2025-04-29T13:54:21.585668Z",
     "start_time": "2025-04-29T13:54:21.574347Z"
    }
   },
   "cell_type": "code",
   "source": "is_prime(17)",
   "id": "40f9e3098b94e7f9",
   "outputs": [
    {
     "data": {
      "text/plain": [
       "True"
      ]
     },
     "execution_count": 131,
     "metadata": {},
     "output_type": "execute_result"
    }
   ],
   "execution_count": 131
  },
  {
   "metadata": {},
   "cell_type": "markdown",
   "source": [
    "### Question 4. Unique digits\n",
    "\n",
    "Write a function that returns the number of unique digits in a positive integer."
   ],
   "id": "e6fb2cd76466cbf0"
  },
  {
   "metadata": {
    "ExecuteTime": {
     "end_time": "2025-04-29T13:54:21.637242Z",
     "start_time": "2025-04-29T13:54:21.627500Z"
    }
   },
   "cell_type": "code",
   "source": [
    "def unique_digit(n):\n",
    "    output = []\n",
    "    record = []\n",
    "    unique_count = 0\n",
    "    assert n > 0 & n%1 == 0, 'n must be a positive integer'\n",
    "    for i in str(n):\n",
    "        output.append(i)\n",
    "    for i in str(n):\n",
    "        if i not in record:\n",
    "            record.append(i)\n",
    "            unique_count += 1\n",
    "        else:\n",
    "            unique_count += 0\n",
    "    return unique_count"
   ],
   "id": "1d7484a058d85b00",
   "outputs": [],
   "execution_count": 132
  },
  {
   "metadata": {
    "ExecuteTime": {
     "end_time": "2025-04-29T13:54:21.673696Z",
     "start_time": "2025-04-29T13:54:21.661768Z"
    }
   },
   "cell_type": "code",
   "source": "unique_digit(494742)",
   "id": "808005ffbaed56cb",
   "outputs": [
    {
     "data": {
      "text/plain": [
       "4"
      ]
     },
     "execution_count": 133,
     "metadata": {},
     "output_type": "execute_result"
    }
   ],
   "execution_count": 133
  },
  {
   "metadata": {},
   "cell_type": "markdown",
   "source": [
    "### Question 7. Repeating\n",
    "\n",
    "**Definition**: A positive integer n is a repeating sequence of positive integer m if n is written by repeating the digits of m one or more times. For example, 616161 is a repeating sequence of 61, but 61616 is not.\n",
    "\n",
    "Implement `repeating` which takes positive integers t and n. It returns whether n is a repeating sequence of some t-digit integer."
   ],
   "id": "977b766dfa0a0eb2"
  },
  {
   "metadata": {
    "ExecuteTime": {
     "end_time": "2025-04-29T14:27:21.227503Z",
     "start_time": "2025-04-29T14:27:21.219669Z"
    }
   },
   "cell_type": "code",
   "source": [
    "def repeating(t, n):\n",
    "    \"\"\"Return whether t digits repeat to form positive integer n.\"\"\"\n",
    "    assert t%1==0 and n%1==0, \"t and n must be integers\"\n",
    "    assert t>0 and n>0, \"t and n must be positive\"\n",
    "\n",
    "    if pow(10, t-1) > n:\n",
    "        return False\n",
    "\n",
    "    string = str(n)\n",
    "\n",
    "    parts = []\n",
    "    for i in range(0, len(string), t):\n",
    "        parts.append(string[i:i+t])\n",
    "\n",
    "    # Shorter way:\n",
    "    # parts = [string[i:i+t] for i in range(0, len(string), t)]\n",
    "\n",
    "\n",
    "    model = parts[0]\n",
    "    for part in parts[1:]:\n",
    "        if part != model or len(part) != len(model):\n",
    "            return False\n",
    "    return True"
   ],
   "id": "3061fb5c5c0fd35f",
   "outputs": [],
   "execution_count": 238
  },
  {
   "metadata": {
    "ExecuteTime": {
     "end_time": "2025-04-29T14:27:21.685343Z",
     "start_time": "2025-04-29T14:27:21.681561Z"
    }
   },
   "cell_type": "code",
   "source": "repeating(3, 555555555554)",
   "id": "95c6adf2cbc33bb",
   "outputs": [
    {
     "data": {
      "text/plain": [
       "False"
      ]
     },
     "execution_count": 239,
     "metadata": {},
     "output_type": "execute_result"
    }
   ],
   "execution_count": 239
  },
  {
   "metadata": {
    "ExecuteTime": {
     "end_time": "2025-04-29T14:27:22.107168Z",
     "start_time": "2025-04-29T14:27:22.102106Z"
    }
   },
   "cell_type": "code",
   "source": "repeating(1, 404040404)",
   "id": "8c2d4b97e6aa0264",
   "outputs": [
    {
     "data": {
      "text/plain": [
       "False"
      ]
     },
     "execution_count": 240,
     "metadata": {},
     "output_type": "execute_result"
    }
   ],
   "execution_count": 240
  },
  {
   "metadata": {
    "ExecuteTime": {
     "end_time": "2025-04-29T14:27:22.605649Z",
     "start_time": "2025-04-29T14:27:22.601586Z"
    }
   },
   "cell_type": "code",
   "source": "repeating(12, 9834)",
   "id": "1cb10d9026ca55d7",
   "outputs": [
    {
     "data": {
      "text/plain": [
       "False"
      ]
     },
     "execution_count": 241,
     "metadata": {},
     "output_type": "execute_result"
    }
   ],
   "execution_count": 241
  },
  {
   "metadata": {
    "ExecuteTime": {
     "end_time": "2025-04-29T14:27:22.941960Z",
     "start_time": "2025-04-29T14:27:22.935781Z"
    }
   },
   "cell_type": "code",
   "source": "repeating(3, 404404404404)",
   "id": "ff7ce33977c8e9bd",
   "outputs": [
    {
     "data": {
      "text/plain": [
       "True"
      ]
     },
     "execution_count": 242,
     "metadata": {},
     "output_type": "execute_result"
    }
   ],
   "execution_count": 242
  },
  {
   "metadata": {},
   "cell_type": "markdown",
   "source": "Solution:",
   "id": "d8d1799282c5e290"
  },
  {
   "metadata": {},
   "cell_type": "code",
   "outputs": [],
   "execution_count": null,
   "source": [
    "def repeating(t, n):\n",
    "    \"\"\"Return whether t digits repeat to form positive integer n.\"\"\"\n",
    "    if pow(10, t-1) > n:\n",
    "        return False\n",
    "    end = n % pow(10, t)\n",
    "    rest = n\n",
    "    while rest:\n",
    "        if rest % pow(10, t) != end:\n",
    "            return False\n",
    "        rest = rest // pow(10, t)\n",
    "    return True"
   ],
   "id": "aefa64d6dc8e71bd"
  },
  {
   "metadata": {},
   "cell_type": "markdown",
   "source": [
    "Compared to my solution, which is slower (due to string conversion & slicing) & uses more memory (storing all chunks), the given solution is faster esp for large numbers and uses maths (modulo & floor division).\n",
    "\n",
    "How it works  (for e.g. n = 343434, t = 2):\n",
    "1. Get the last 2 digits (end = n % 100 = 34)\n",
    "2. Repeatedly extract the last 2 digits of the numbers moving backwards. Rest = 343434\n",
    "    1. Extract last 2 digits: Rest % 100 = 34\n",
    "    2. Extract the remaining: Rest //= 100 = 3434\n",
    "    3. Again extract last 2 digits: 3434 % 100 = 34\n",
    "    4. ...\n",
    "\n",
    "`//=`\n",
    "x = x // y is the same as x //= y. It auto updates x by dividing by y and keeping only the integer part."
   ],
   "id": "3c6bf7de94c00914"
  }
 ],
 "metadata": {},
 "nbformat": 4,
 "nbformat_minor": 5
}
