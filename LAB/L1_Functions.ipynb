{
 "cells": [
  {
   "metadata": {},
   "cell_type": "markdown",
   "source": "# Lab 1. Functions",
   "id": "482b8aa01b811609"
  },
  {
   "metadata": {},
   "cell_type": "markdown",
   "source": [
    "### Question 1\n",
    "\n",
    "Test your knowledge with the following \"What Would Python Display?\" questions:"
   ],
   "id": "e412232a979569b0"
  },
  {
   "metadata": {
    "ExecuteTime": {
     "end_time": "2025-04-28T16:15:31.925965Z",
     "start_time": "2025-04-28T16:15:31.917219Z"
    }
   },
   "cell_type": "code",
   "source": [
    "def welcome():\n",
    "    print('Go')\n",
    "    return 'hello'\n",
    "\n",
    "def cal():\n",
    "    print('Bears')\n",
    "    return 'world'\n",
    "\n",
    "print('***** If we use print() *****:')\n",
    "print(welcome(), cal())\n",
    "print('***** If we just call the function: *****')\n",
    "welcome()"
   ],
   "id": "5a6d6ad563ffbcdb",
   "outputs": [
    {
     "name": "stdout",
     "output_type": "stream",
     "text": [
      "***** If we use print() *****:\n",
      "Go\n",
      "Bears\n",
      "hello world\n",
      "***** If we just call the function: *****\n",
      "Go\n"
     ]
    },
    {
     "data": {
      "text/plain": [
       "'hello'"
      ]
     },
     "execution_count": 8,
     "metadata": {},
     "output_type": "execute_result"
    }
   ],
   "execution_count": 8
  },
  {
   "metadata": {},
   "cell_type": "markdown",
   "source": [
    "### Question 2\n",
    "Implement `digit`, which takes positive integers n and k and has only a single return statement as its body. It returns the digit of n that is k positions to the left of the rightmost digit (the one's digit). If k is 0, return the rightmost digit. If there is no digit of n that is k positions to the left of the rightmost digit, return 0.\n",
    "\n",
    "Hint: Use // and % and the built-in pow function to isolate a particular digit of n."
   ],
   "id": "d473de918bb0ee13"
  },
  {
   "metadata": {
    "ExecuteTime": {
     "end_time": "2025-04-28T19:30:31.001487Z",
     "start_time": "2025-04-28T19:30:30.995058Z"
    }
   },
   "cell_type": "code",
   "source": [
    "def digit(n, k):\n",
    "    \"\"\"Return the k-th digit from the right of n for positive integers n and k.\n",
    "\n",
    "    >>> digit(3579, 2)\n",
    "    5\n",
    "    >>> digit(3579, 0)\n",
    "    9\n",
    "    >>> digit(3579, 10)\n",
    "    0\n",
    "    \"\"\"\n",
    "    string = str(n)\n",
    "    if k == 0:\n",
    "        print (string[-1])\n",
    "    elif k > 0 and k < len(string):\n",
    "        print (string[-k-1])\n",
    "    elif k > 0 and k >= len(string):\n",
    "        print(0)\n",
    "    else:\n",
    "        print ('k must be a positive integer')"
   ],
   "id": "56a572343cdf73c8",
   "outputs": [],
   "execution_count": 208
  },
  {
   "metadata": {
    "ExecuteTime": {
     "end_time": "2025-04-28T19:31:15.283623Z",
     "start_time": "2025-04-28T19:31:15.276939Z"
    }
   },
   "cell_type": "code",
   "source": "digit(53248, 0)",
   "id": "a16e4ccacc958f97",
   "outputs": [
    {
     "name": "stdout",
     "output_type": "stream",
     "text": [
      "8\n"
     ]
    }
   ],
   "execution_count": 214
  },
  {
   "metadata": {
    "ExecuteTime": {
     "end_time": "2025-04-28T19:31:06.594218Z",
     "start_time": "2025-04-28T19:31:06.590591Z"
    }
   },
   "cell_type": "code",
   "source": "digit(53248, 3)",
   "id": "2dfcd2115900afee",
   "outputs": [
    {
     "name": "stdout",
     "output_type": "stream",
     "text": [
      "3\n"
     ]
    }
   ],
   "execution_count": 213
  },
  {
   "metadata": {
    "ExecuteTime": {
     "end_time": "2025-04-28T19:31:03.592592Z",
     "start_time": "2025-04-28T19:31:03.588554Z"
    }
   },
   "cell_type": "code",
   "source": "digit(53248, 404)",
   "id": "6884678854b30e22",
   "outputs": [
    {
     "name": "stdout",
     "output_type": "stream",
     "text": [
      "0\n"
     ]
    }
   ],
   "execution_count": 212
  },
  {
   "metadata": {},
   "cell_type": "markdown",
   "source": [
    "### Question 4\n",
    "Implement `middle` by writing a single return expression that evaluates to the value that is neither the largest or smallest among three different integers a, b, and c.\n",
    "\n",
    "Hint: Try combining all the numbers and then taking away the ones you don't want to return by using the built-in min and max functions."
   ],
   "id": "4caeb204a5684297"
  },
  {
   "metadata": {
    "ExecuteTime": {
     "end_time": "2025-04-28T18:04:20.512288Z",
     "start_time": "2025-04-28T18:04:20.501964Z"
    }
   },
   "cell_type": "code",
   "source": [
    "import math\n",
    "def middle(a, b, c):\n",
    "    \"\"\"Return the number among a, b, and c that is not the smallest or largest.\n",
    "    Assume a, b, and c are all different numbers.\n",
    "\n",
    "    >>> middle(3, 5, 4)\n",
    "    4\n",
    "    >>> middle(30, 5, 4)\n",
    "    5\n",
    "    >>> middle(3, 5, 40)\n",
    "    5\n",
    "    >>> middle(3, 5, 40)\n",
    "    5\n",
    "    >>> middle(30, 5, 40)\n",
    "    30\n",
    "    a2 + b2 = c2\n",
    "    \"\"\"\n",
    "    return sorted([a, b, c])[len([a, b, c]) // 2]"
   ],
   "id": "8d81d6855695a779",
   "outputs": [],
   "execution_count": 43
  },
  {
   "metadata": {},
   "cell_type": "code",
   "outputs": [],
   "execution_count": null,
   "source": "middle(404, 17, 12)",
   "id": "e280880f233c0253"
  },
  {
   "metadata": {},
   "cell_type": "markdown",
   "source": [
    "### Question 6\n",
    "\n",
    "Let's write a function `falling`, which is a \"falling\" factorial that takes two arguments, n and k, and returns the product of k consecutive numbers, starting from n and working downwards. When k is 0, the function should return 1."
   ],
   "id": "ee4a311808becf82"
  },
  {
   "metadata": {
    "ExecuteTime": {
     "end_time": "2025-04-28T21:20:33.643852Z",
     "start_time": "2025-04-28T21:20:33.637752Z"
    }
   },
   "cell_type": "code",
   "source": [
    "def falling(n, k):\n",
    "    result = 1\n",
    "    for i in range(k):\n",
    "        result *= n - i\n",
    "    return result"
   ],
   "id": "de2ada304896a85b",
   "outputs": [],
   "execution_count": 242
  },
  {
   "metadata": {
    "ExecuteTime": {
     "end_time": "2025-04-28T21:23:45.983374Z",
     "start_time": "2025-04-28T21:23:45.972585Z"
    }
   },
   "cell_type": "code",
   "source": "falling(5, 3)",
   "id": "a5c0e130db83c08b",
   "outputs": [
    {
     "data": {
      "text/plain": [
       "60"
      ]
     },
     "execution_count": 252,
     "metadata": {},
     "output_type": "execute_result"
    }
   ],
   "execution_count": 252
  },
  {
   "metadata": {},
   "cell_type": "markdown",
   "source": [
    "### Question 7\n",
    "Write a function `divisible_by_k` that takes positive integers n and k. It prints all positive integers less than or equal to n that are divisible by k from smallest to largest. Then, it returns how many numbers were printed."
   ],
   "id": "de09cad7fa7bf956"
  },
  {
   "metadata": {
    "ExecuteTime": {
     "end_time": "2025-04-28T18:14:45.721871Z",
     "start_time": "2025-04-28T18:14:45.716814Z"
    }
   },
   "cell_type": "code",
   "source": [
    "def divisible_by_k (n, k):\n",
    "    sequence = []\n",
    "    for i in range(1, n+1):\n",
    "        if i%k == 0:\n",
    "            sequence.append(i)\n",
    "    print(f'Sequence: {sequence}')\n",
    "    print(f'Length: {len(sequence)}')"
   ],
   "id": "49431d5e57bdc794",
   "outputs": [],
   "execution_count": 52
  },
  {
   "metadata": {
    "ExecuteTime": {
     "end_time": "2025-04-28T18:14:45.944380Z",
     "start_time": "2025-04-28T18:14:45.938320Z"
    }
   },
   "cell_type": "code",
   "outputs": [
    {
     "name": "stdout",
     "output_type": "stream",
     "text": [
      "Sequence: [6, 12, 18]\n",
      "Length: 3\n"
     ]
    }
   ],
   "execution_count": 53,
   "source": "divisible_by_k(18, 6)",
   "id": "427e4df7fe03f9b5"
  },
  {
   "metadata": {},
   "cell_type": "markdown",
   "source": [
    "### Question 8\n",
    "Write a function that takes in a nonnegative integer and sums its digits. (Using floor division and modulo might be helpful here!)"
   ],
   "id": "30953e7090be6464"
  },
  {
   "metadata": {},
   "cell_type": "markdown",
   "source": "Method 1: using maths",
   "id": "f8bc260c203903fb"
  },
  {
   "metadata": {
    "ExecuteTime": {
     "end_time": "2025-04-28T18:50:33.405238Z",
     "start_time": "2025-04-28T18:50:33.398465Z"
    }
   },
   "cell_type": "code",
   "source": [
    "def sum_digits(x):\n",
    "    digits = []\n",
    "    i = 0\n",
    "    while x // (10 ** i) > 0:\n",
    "        floor = x // (10 ** i)\n",
    "        last = floor % 10\n",
    "        digits.append(last)\n",
    "        i += 1\n",
    "    return sum(digits)"
   ],
   "id": "5419d0b1dc29d8f6",
   "outputs": [],
   "execution_count": 111
  },
  {
   "metadata": {
    "ExecuteTime": {
     "end_time": "2025-04-28T18:50:35.103798Z",
     "start_time": "2025-04-28T18:50:35.097419Z"
    }
   },
   "cell_type": "code",
   "source": "sum_digits(15693)",
   "id": "c1aed9ad203f34aa",
   "outputs": [
    {
     "data": {
      "text/plain": [
       "24"
      ]
     },
     "execution_count": 112,
     "metadata": {},
     "output_type": "execute_result"
    }
   ],
   "execution_count": 112
  },
  {
   "metadata": {},
   "cell_type": "markdown",
   "source": "Method 2: using strings",
   "id": "77550d85d290120f"
  },
  {
   "metadata": {
    "ExecuteTime": {
     "end_time": "2025-04-28T18:57:32.849966Z",
     "start_time": "2025-04-28T18:57:32.843433Z"
    }
   },
   "cell_type": "code",
   "source": [
    "def sum_digits_string(x):\n",
    "    total = 0\n",
    "    for d in str(x):\n",
    "        total += int(d)\n",
    "    return total"
   ],
   "id": "821670a95fe08613",
   "outputs": [],
   "execution_count": 119
  },
  {
   "metadata": {
    "ExecuteTime": {
     "end_time": "2025-04-28T18:57:35.438572Z",
     "start_time": "2025-04-28T18:57:35.432376Z"
    }
   },
   "cell_type": "code",
   "source": "sum_digits_string(8111)",
   "id": "2af4e65dbc93093a",
   "outputs": [
    {
     "data": {
      "text/plain": [
       "11"
      ]
     },
     "execution_count": 120,
     "metadata": {},
     "output_type": "execute_result"
    }
   ],
   "execution_count": 120
  },
  {
   "metadata": {},
   "cell_type": "markdown",
   "source": [
    "### Question 10\n",
    "\n",
    "Write a function that takes in a number and determines if the digits contain two adjacent 8s."
   ],
   "id": "5dc6421a6ce69eee"
  },
  {
   "metadata": {
    "ExecuteTime": {
     "end_time": "2025-04-28T19:08:22.963118Z",
     "start_time": "2025-04-28T19:08:22.959194Z"
    }
   },
   "cell_type": "code",
   "source": [
    "def double_eight(x):\n",
    "    string = str(x)\n",
    "    digits = [this for this in string]\n",
    "    for i in range(len(digits)):\n",
    "        if digits[i] == '8' and digits[i+1] == '8':\n",
    "            return True\n",
    "    return False"
   ],
   "id": "3087824156061793",
   "outputs": [],
   "execution_count": 144
  },
  {
   "metadata": {
    "ExecuteTime": {
     "end_time": "2025-04-28T19:08:24.099402Z",
     "start_time": "2025-04-28T19:08:24.090548Z"
    }
   },
   "cell_type": "code",
   "source": "double_eight(521648923983)",
   "id": "a71b6700e3b47cad",
   "outputs": [
    {
     "data": {
      "text/plain": [
       "False"
      ]
     },
     "execution_count": 145,
     "metadata": {},
     "output_type": "execute_result"
    }
   ],
   "execution_count": 145
  },
  {
   "metadata": {
    "ExecuteTime": {
     "end_time": "2025-04-28T19:08:34.898581Z",
     "start_time": "2025-04-28T19:08:34.892451Z"
    }
   },
   "cell_type": "code",
   "source": "double_eight(5216488923983)",
   "id": "67a617fdd4fd0aad",
   "outputs": [
    {
     "data": {
      "text/plain": [
       "True"
      ]
     },
     "execution_count": 146,
     "metadata": {},
     "output_type": "execute_result"
    }
   ],
   "execution_count": 146
  }
 ],
 "metadata": {},
 "nbformat": 4,
 "nbformat_minor": 5
}
