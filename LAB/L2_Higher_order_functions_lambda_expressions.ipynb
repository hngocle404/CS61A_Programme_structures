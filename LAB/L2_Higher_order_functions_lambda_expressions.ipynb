{
 "cells": [
  {
   "metadata": {},
   "cell_type": "markdown",
   "source": "# Lab 2. Higher-order functions, lambda expressions",
   "id": "37ca0002ddce13df"
  },
  {
   "metadata": {
    "ExecuteTime": {
     "end_time": "2025-05-01T06:47:55.534382Z",
     "start_time": "2025-05-01T06:47:55.530725Z"
    }
   },
   "cell_type": "code",
   "source": [
    "square = lambda x: x * x\n",
    "identity = lambda x: x\n",
    "triple = lambda x: 3 * x\n",
    "increment = lambda x: x + 1\n",
    "cube = lambda x: x**3"
   ],
   "id": "bc535882b867fb5c",
   "outputs": [],
   "execution_count": 12
  },
  {
   "metadata": {},
   "cell_type": "markdown",
   "source": [
    "### Question 4. Composite identity function\n",
    "\n",
    "Write a function that takes in two single-argument functions, f and g, and returns another function that has a single parameter x. The returned function should return True if f(g(x)) is equal to g(f(x)) and False otherwise. You can assume the output of g(x) is a valid input for f and vice versa."
   ],
   "id": "4022f46c18a70cd2"
  },
  {
   "metadata": {
    "ExecuteTime": {
     "end_time": "2025-05-01T06:46:22.225909Z",
     "start_time": "2025-05-01T06:46:22.215838Z"
    }
   },
   "cell_type": "code",
   "source": [
    "def composite_identity(f, g):\n",
    "    def evaluate(x):\n",
    "        return f(x) == g(x)\n",
    "    return evaluate"
   ],
   "id": "b1eb8b728c403a44",
   "outputs": [],
   "execution_count": 3
  },
  {
   "metadata": {
    "ExecuteTime": {
     "end_time": "2025-05-01T06:49:45.370304Z",
     "start_time": "2025-05-01T06:49:45.364684Z"
    }
   },
   "cell_type": "code",
   "source": [
    "print(composite_identity(square, identity)(4))\n",
    "print(composite_identity(triple, identity)(1))\n",
    "print(composite_identity(cube, identity)(1))"
   ],
   "id": "8b527e9c0fc40764",
   "outputs": [
    {
     "name": "stdout",
     "output_type": "stream",
     "text": [
      "False\n",
      "False\n",
      "True\n"
     ]
    }
   ],
   "execution_count": 15
  },
  {
   "metadata": {},
   "cell_type": "markdown",
   "source": [
    "### Question 7. Multiple\n",
    "Write a function that takes in two numbers and returns the smallest number that is a multiple of both."
   ],
   "id": "d6476a62489aaba6"
  },
  {
   "metadata": {
    "ExecuteTime": {
     "end_time": "2025-05-01T07:08:52.986842Z",
     "start_time": "2025-05-01T07:08:52.981959Z"
    }
   },
   "cell_type": "code",
   "source": [
    "def lowest_common_multiple(a, b):\n",
    "    for i in range(1, a*b):\n",
    "        if i%a == 0 and i%b == 0:\n",
    "            break\n",
    "        else:\n",
    "            continue\n",
    "    return i"
   ],
   "id": "54345872b2cac5cf",
   "outputs": [],
   "execution_count": 61
  },
  {
   "metadata": {
    "ExecuteTime": {
     "end_time": "2025-05-01T07:09:34.730482Z",
     "start_time": "2025-05-01T07:09:34.725251Z"
    }
   },
   "cell_type": "code",
   "source": [
    "print(lowest_common_multiple(3, 4))\n",
    "print(lowest_common_multiple(6, 10))\n",
    "print(lowest_common_multiple(14, 21))"
   ],
   "id": "823cdb36ea9ff650",
   "outputs": [
    {
     "name": "stdout",
     "output_type": "stream",
     "text": [
      "11\n",
      "30\n",
      "42\n"
     ]
    }
   ],
   "execution_count": 64
  }
 ],
 "metadata": {},
 "nbformat": 4,
 "nbformat_minor": 5
}
