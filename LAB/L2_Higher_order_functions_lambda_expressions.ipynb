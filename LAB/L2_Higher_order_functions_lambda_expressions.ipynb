{
 "cells": [
  {
   "metadata": {},
   "cell_type": "markdown",
   "source": "# Lab 2. Higher-order functions, lambda expressions",
   "id": "37ca0002ddce13df"
  },
  {
   "metadata": {
    "ExecuteTime": {
     "end_time": "2025-05-01T05:41:54.595990Z",
     "start_time": "2025-05-01T05:41:54.567607Z"
    }
   },
   "cell_type": "code",
   "source": [
    "square = lambda x: x * x\n",
    "identity = lambda x: x\n",
    "triple = lambda x: 3 * x\n",
    "increment = lambda x: x + 1"
   ],
   "id": "bc535882b867fb5c",
   "outputs": [],
   "execution_count": 1
  },
  {
   "metadata": {},
   "cell_type": "markdown",
   "source": [
    "### Question 4. Composite identity function\n",
    "\n",
    "Write a function that takes in two single-argument functions, f and g, and returns another function that has a single parameter x. The returned function should return True if f(g(x)) is equal to g(f(x)) and False otherwise. You can assume the output of g(x) is a valid input for f and vice versa."
   ],
   "id": "4022f46c18a70cd2"
  },
  {
   "metadata": {},
   "cell_type": "code",
   "outputs": [],
   "execution_count": null,
   "source": [
    "def composite_identity(f, g):\n",
    "    def evaluate(x):\n",
    "\n",
    "    return f(x) == g(x)"
   ],
   "id": "b1eb8b728c403a44"
  },
  {
   "metadata": {},
   "cell_type": "code",
   "outputs": [],
   "execution_count": null,
   "source": "",
   "id": "32e612f5801d9aaa"
  }
 ],
 "metadata": {},
 "nbformat": 4,
 "nbformat_minor": 5
}
