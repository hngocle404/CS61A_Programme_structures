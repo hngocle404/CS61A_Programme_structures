{
 "cells": [
  {
   "metadata": {},
   "cell_type": "markdown",
   "source": "# Homework 1. Functions & controls",
   "id": "41f361c89403f401"
  },
  {
   "metadata": {},
   "cell_type": "markdown",
   "source": [
    "### Question 1\n",
    "Python's operator module contains two-argument functions such as add and sub for Python's built-in arithmetic operators. For example, add(2, 3) evalutes to 5, just like the expression 2 + 3.\n",
    "\n",
    "Fill in the blanks in the following function to add a to the absolute value of b, without calling the abs function. You may not modify any of the provided code other than the two blanks."
   ],
   "id": "b6093ac43d702ae2"
  },
  {
   "metadata": {
    "ExecuteTime": {
     "end_time": "2025-04-26T20:04:04.841836Z",
     "start_time": "2025-04-26T20:04:04.825619Z"
    }
   },
   "cell_type": "code",
   "source": [
    "def a_plus_abs_b(a, b):\n",
    "    \"\"\"Return a+abs(b), but without calling abs.\n",
    "    >>> a_plus_abs_b(2, 3)\n",
    "    5\n",
    "    >>> a_plus_abs_b(2, -3)\n",
    "    5\n",
    "    >>> a_plus_abs_b(-1, 4)\n",
    "    3\n",
    "    >>> a_plus_abs_b(-1, -4)\n",
    "    3\n",
    "    \"\"\"\n",
    "    if b < 0:\n",
    "        f = a - b\n",
    "    else:\n",
    "        f = a + b\n",
    "    return f(a, b)"
   ],
   "id": "a0676d0ab77175da",
   "outputs": [],
   "execution_count": 1
  },
  {
   "metadata": {},
   "cell_type": "markdown",
   "source": [
    "### Question 2\n",
    "Write a function that takes three positive numbers as arguments and returns the sum of the squares of the two smallest numbers. Use only a single line for the body of the function."
   ],
   "id": "482cab70b08bf85e"
  },
  {
   "metadata": {
    "ExecuteTime": {
     "end_time": "2025-04-26T20:04:08.031921Z",
     "start_time": "2025-04-26T20:04:08.019284Z"
    }
   },
   "cell_type": "code",
   "source": [
    "def two_of_three(a, b, c):\n",
    "    return a**2 + b**2 + c**2 - max(a, b, c)**2"
   ],
   "id": "69c5b90e6ebd4554",
   "outputs": [],
   "execution_count": 2
  },
  {
   "metadata": {
    "ExecuteTime": {
     "end_time": "2025-04-26T20:04:08.096305Z",
     "start_time": "2025-04-26T20:04:08.080457Z"
    }
   },
   "cell_type": "code",
   "source": "two_of_three(2, 5, 1)",
   "id": "b49d8c861c6212d4",
   "outputs": [
    {
     "data": {
      "text/plain": [
       "5"
      ]
     },
     "execution_count": 3,
     "metadata": {},
     "output_type": "execute_result"
    }
   ],
   "execution_count": 3
  },
  {
   "metadata": {},
   "cell_type": "markdown",
   "source": [
    "### Question 3\n",
    "\n",
    "Write a function that takes an integer n that is greater than 1 and returns the largest factor that is smaller than n and evenly divides n."
   ],
   "id": "c13ea6f5c2c1834b"
  },
  {
   "metadata": {
    "ExecuteTime": {
     "end_time": "2025-04-26T20:25:39.348557Z",
     "start_time": "2025-04-26T20:25:39.345168Z"
    }
   },
   "cell_type": "code",
   "source": [
    "def largest_factor(n):\n",
    "    if n <= 1:\n",
    "        print('n must be greater than 1.')\n",
    "    factors = []\n",
    "    for i in range(1, n):\n",
    "        if n%i == 0:\n",
    "            factors.append(i)\n",
    "    return max(factors)"
   ],
   "id": "febce44c16bf4581",
   "outputs": [],
   "execution_count": 12
  },
  {
   "metadata": {
    "ExecuteTime": {
     "end_time": "2025-04-26T20:26:06.574685Z",
     "start_time": "2025-04-26T20:26:06.569103Z"
    }
   },
   "cell_type": "code",
   "source": "largest_factor(80)",
   "id": "82242981f5a73f8",
   "outputs": [
    {
     "data": {
      "text/plain": [
       "40"
      ]
     },
     "execution_count": 17,
     "metadata": {},
     "output_type": "execute_result"
    }
   ],
   "execution_count": 17
  },
  {
   "metadata": {},
   "cell_type": "markdown",
   "source": [
    "### Question 4\n",
    "\n",
    "Douglas Hofstadter's Pulitzer-prize-winning book, Gödel, Escher, Bach, poses the following mathematical puzzle.\n",
    "\n",
    "1. Pick a positive integer n as the start.\n",
    "2. If n is even, divide it by 2.\n",
    "3. If n is odd, multiply it by 3 and add 1.\n",
    "4. Continue this process until n is 1.\n",
    "\n",
    "The number n will travel up and down but eventually end at 1 (at least for all numbers that have ever been tried -- nobody has ever proved that the sequence will terminate). Analogously, a hailstone travels up and down in the atmosphere before eventually landing on earth.\n",
    "\n",
    "This sequence of values of n is often called a Hailstone sequence. Write a function that takes a single argument with formal parameter name n, prints out the hailstone sequence starting at n, and returns the number of steps in the sequence."
   ],
   "id": "c81f4a41c00cede5"
  },
  {
   "metadata": {
    "ExecuteTime": {
     "end_time": "2025-04-26T20:42:39.167493Z",
     "start_time": "2025-04-26T20:42:39.160138Z"
    }
   },
   "cell_type": "code",
   "source": [
    "def hailstone(n):\n",
    "    if n <= 0:\n",
    "        print(\"n must be positive.\")\n",
    "        return []\n",
    "    if n%1 != 0:\n",
    "        print(\"n must be an integer.\")\n",
    "        return []\n",
    "\n",
    "    sequence = []\n",
    "    current = n\n",
    "\n",
    "    while current != 1:\n",
    "        sequence.append(current)\n",
    "\n",
    "        if current % 2 == 0:\n",
    "            current = current // 2\n",
    "        else:\n",
    "            current = 3 * current + 1\n",
    "\n",
    "    sequence.append(1)\n",
    "    print(f'Sequence: {sequence}')\n",
    "    print(f'Number of steps: {len(sequence)}')"
   ],
   "id": "d03bf2cec1500ad4",
   "outputs": [],
   "execution_count": 57
  },
  {
   "metadata": {
    "ExecuteTime": {
     "end_time": "2025-04-26T20:42:39.890033Z",
     "start_time": "2025-04-26T20:42:39.876829Z"
    }
   },
   "cell_type": "code",
   "source": "hailstone(6)",
   "id": "3f192a1cc2b3f966",
   "outputs": [
    {
     "name": "stdout",
     "output_type": "stream",
     "text": [
      "Sequence: [6, 3, 10, 5, 16, 8, 4, 2, 1]\n",
      "Number of steps: 9\n"
     ]
    }
   ],
   "execution_count": 58
  },
  {
   "metadata": {
    "ExecuteTime": {
     "end_time": "2025-04-26T20:43:09.564018Z",
     "start_time": "2025-04-26T20:43:09.555375Z"
    }
   },
   "cell_type": "code",
   "source": "hailstone(27)",
   "id": "7b6b7d7fcc2f363a",
   "outputs": [
    {
     "name": "stdout",
     "output_type": "stream",
     "text": [
      "Sequence: [27, 82, 41, 124, 62, 31, 94, 47, 142, 71, 214, 107, 322, 161, 484, 242, 121, 364, 182, 91, 274, 137, 412, 206, 103, 310, 155, 466, 233, 700, 350, 175, 526, 263, 790, 395, 1186, 593, 1780, 890, 445, 1336, 668, 334, 167, 502, 251, 754, 377, 1132, 566, 283, 850, 425, 1276, 638, 319, 958, 479, 1438, 719, 2158, 1079, 3238, 1619, 4858, 2429, 7288, 3644, 1822, 911, 2734, 1367, 4102, 2051, 6154, 3077, 9232, 4616, 2308, 1154, 577, 1732, 866, 433, 1300, 650, 325, 976, 488, 244, 122, 61, 184, 92, 46, 23, 70, 35, 106, 53, 160, 80, 40, 20, 10, 5, 16, 8, 4, 2, 1]\n",
      "Number of steps: 112\n"
     ]
    }
   ],
   "execution_count": 59
  }
 ],
 "metadata": {},
 "nbformat": 4,
 "nbformat_minor": 5
}
