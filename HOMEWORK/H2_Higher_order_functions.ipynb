{
 "cells": [
  {
   "metadata": {},
   "cell_type": "markdown",
   "source": "# Homework 2. Higher order functions",
   "id": "45a5464023bd1245"
  },
  {
   "metadata": {},
   "cell_type": "markdown",
   "source": [
    "### Question 1. Product\n",
    "\n",
    "Write a function called product that returns the product of the first n terms of a sequence. Specifically, product takes in an integer n and term, a single-argument function that determines a sequence. (That is, term(i) gives the ith term of the sequence.) product(n, term) should return term(1) * ... * term(n)."
   ],
   "id": "4dd026b8d14ce468"
  },
  {
   "metadata": {
    "ExecuteTime": {
     "end_time": "2025-04-29T18:21:17.102312Z",
     "start_time": "2025-04-29T18:21:17.092253Z"
    }
   },
   "cell_type": "code",
   "source": [
    "square = lambda x: x * x\n",
    "identity = lambda x: x\n",
    "triple = lambda x: 3 * x\n",
    "increment = lambda x: x + 1\n",
    "\n",
    "def product(n, term):\n",
    "    \"\"\"Return the product of the first n terms in a sequence.\n",
    "    n:      a positive integer\n",
    "    term:   a function that takes one argument to produce the term\n",
    "    >>> product(3, identity)  # 1 * 2 * 3\n",
    "    6\n",
    "    >>> product(5, identity)  # 1 * 2 * 3 * 4 * 5\n",
    "    120\n",
    "    >>> product(3, square)    # 1^2 * 2^2 * 3^2\n",
    "    36\n",
    "    >>> product(5, square)    # 1^2 * 2^2 * 3^2 * 4^2 * 5^2\n",
    "    14400\n",
    "    >>> product(3, increment) # (1+1) * (2+1) * (3+1)\n",
    "    24\n",
    "    >>> product(3, triple)    # 1*3 * 2*3 * 3*3\n",
    "    162\n",
    "    \"\"\"\n",
    "    assert isinstance(n, int), \"n must be an integer.\"\n",
    "    assert n>0, \"n must be positive.\"\n",
    "    product = 1\n",
    "    for i in range(1, n+1):\n",
    "        product *= term(i)\n",
    "    return product"
   ],
   "id": "438b26853bb4398b",
   "outputs": [],
   "execution_count": 57
  },
  {
   "metadata": {
    "ExecuteTime": {
     "end_time": "2025-04-29T18:21:17.134242Z",
     "start_time": "2025-04-29T18:21:17.118703Z"
    }
   },
   "cell_type": "code",
   "source": [
    "print(product(3, identity))   # 6\n",
    "print(product(3, square))     # 36\n",
    "print(product(3, increment))  # 24\n",
    "print(product(3, triple))     # 162"
   ],
   "id": "c63db866b8eb6652",
   "outputs": [
    {
     "name": "stdout",
     "output_type": "stream",
     "text": [
      "6\n",
      "36\n",
      "24\n",
      "162\n"
     ]
    }
   ],
   "execution_count": 58
  },
  {
   "metadata": {},
   "cell_type": "markdown",
   "source": [
    "### Question 2. Accumulate\n",
    "\n",
    "Let's take a look at how product is an instance of a more general function called accumulate, which we would like to implement:\n",
    "\n",
    "```\n",
    "def accumulate(fuse, start, n, term):\n",
    "    \"\"\"Return the result of fusing together the first n terms in a sequence and start. The terms to be fused are term(1), term(2), ..., term(n). The function fuse is a two-argument commutative & associative function.\n",
    "\n",
    "    >>> accumulate(add, 0, 5, identity)  # 0 + 1 + 2 + 3 + 4 + 5\n",
    "    15\n",
    "    >>> accumulate(add, 11, 5, identity) # 11 + 1 + 2 + 3 + 4 + 5\n",
    "    26\n",
    "    >>> accumulate(add, 11, 0, identity) # 11 (fuse is never used)\n",
    "    11\n",
    "    >>> accumulate(add, 11, 3, square)   # 11 + 1^2 + 2^2 + 3^2\n",
    "    25\n",
    "    >>> accumulate(mul, 2, 3, square)    # 2 * 1^2 * 2^2 * 3^2\n",
    "    72\n",
    "    >>> # 2 + (1^2 + 1) + (2^2 + 1) + (3^2 + 1)\n",
    "    >>> accumulate(lambda x, y: x + y + 1, 2, 3, square)\n",
    "    19\n",
    "    \"\"\"\n",
    "    \"*** YOUR CODE HERE ***\"\n",
    "```\n",
    "\n",
    "accumulate has the following parameters:\n",
    "\n",
    "- fuse: a two-argument function that specifies how the current term is fused with the previously accumulated terms\n",
    "- start: value at which to start the accumulation\n",
    "- n: a non-negative integer indicating the number of terms to fuse\n",
    "- term: a single-argument function; term(i) is the ith term of the sequence\n",
    "\n",
    "Implement accumulate, which fuses the first n terms of the sequence defined by term with the start value using the fuse function.\n",
    "\n",
    "For example, the result of accumulate(add, 11, 3, square) is\n",
    "\n",
    "add(11,  add(square(1), add(square(2),  square(3)))) =\n",
    "    11 +     square(1) +    square(2) + square(3)    =\n",
    "    11 +     1         +    4         + 9            = 25\n",
    "\n",
    "Assume that fuse is commutative, fuse(a, b) == fuse(b, a), and associative, fuse(fuse(a, b), c) == fuse(a, fuse(b, c)).\n",
    "\n",
    "Then, implement summation and product as one-line calls to accumulate.\n",
    "\n",
    "Important: Both summation_using_accumulate and product_using_accumulate should be implemented with a single line of code starting with return.\n",
    "\n",
    "```\n",
    "def summation_using_accumulate(n, term):\n",
    "    \"\"\"Returns the sum: term(1) + ... + term(n), using accumulate.\n",
    "\n",
    "    >>> summation_using_accumulate(5, square) # square(1) + square(2) + ... + square(4) + square(5)\n",
    "    55\n",
    "    >>> summation_using_accumulate(5, triple) # triple(1) + triple(2) + ... + triple(4) + triple(5)\n",
    "    45\n",
    "    >>> # This test checks that the body of the function is just a return statement.\n",
    "    >>> import inspect, ast\n",
    "    >>> [type(x).__name__ for x in ast.parse(inspect.getsource(summation_using_accumulate)).body[0].body]\n",
    "    ['Expr', 'Return']\n",
    "    \"\"\"\n",
    "    return ____\n",
    "\n",
    "def product_using_accumulate(n, term):\n",
    "    \"\"\"Returns the product: term(1) * ... * term(n), using accumulate.\n",
    "\n",
    "    >>> product_using_accumulate(4, square) # square(1) * square(2) * square(3) * square()\n",
    "    576\n",
    "    >>> product_using_accumulate(6, triple) # triple(1) * triple(2) * ... * triple(5) * triple(6)\n",
    "    524880\n",
    "    >>> # This test checks that the body of the function is just a return statement.\n",
    "    >>> import inspect, ast\n",
    "    >>> [type(x).__name__ for x in ast.parse(inspect.getsource(product_using_accumulate)).body[0].body]\n",
    "    ['Expr', 'Return']\n",
    "    \"\"\"\n",
    "    return ____\n",
    "    ```"
   ],
   "id": "4317dde11e15bf80"
  },
  {
   "metadata": {
    "ExecuteTime": {
     "end_time": "2025-04-29T18:23:54.339852Z",
     "start_time": "2025-04-29T18:23:54.334365Z"
    }
   },
   "cell_type": "code",
   "source": [
    "add = lambda x: x + x\n",
    "mul = lambda x: x * x"
   ],
   "id": "9cbc62d4f4a20e1b",
   "outputs": [],
   "execution_count": 74
  },
  {
   "metadata": {
    "ExecuteTime": {
     "end_time": "2025-04-29T18:32:15.526111Z",
     "start_time": "2025-04-29T18:32:15.521567Z"
    }
   },
   "cell_type": "code",
   "source": [
    "def accumulate(fuse, start, n, term):\n",
    "    \"\"\"\n",
    "    :param fuse: two-argument commutative & associative function\n",
    "    :param start: number to be fused with the first n terms\n",
    "    :param n: number of the first terms to be fused with start\n",
    "    :param term: single-argument function that determines a seq\n",
    "    :return: integer\n",
    "    \"\"\"\n",
    "    fused = start\n",
    "    if fuse == add:\n",
    "        for i in range(1, n+1):\n",
    "            fused += term(i)\n",
    "    if fuse == mul:\n",
    "        for i in range(1, n+1):\n",
    "            fused *= term(i)\n",
    "    return fused"
   ],
   "id": "ec2802708ec1b468",
   "outputs": [],
   "execution_count": 122
  },
  {
   "metadata": {
    "ExecuteTime": {
     "end_time": "2025-04-29T18:32:57.206759Z",
     "start_time": "2025-04-29T18:32:57.202608Z"
    }
   },
   "cell_type": "code",
   "source": [
    "print(accumulate(mul, 2, 3, square))\n",
    "print(accumulate(add, 11, 0, identity))\n",
    "print(accumulate(add, 11, 3, square))\n",
    "print(accumulate(add, 0, 5, identity))"
   ],
   "id": "aa8256a36b881ed7",
   "outputs": [
    {
     "name": "stdout",
     "output_type": "stream",
     "text": [
      "72\n",
      "11\n",
      "25\n",
      "15\n"
     ]
    }
   ],
   "execution_count": 128
  },
  {
   "metadata": {
    "ExecuteTime": {
     "end_time": "2025-04-29T18:37:03.787257Z",
     "start_time": "2025-04-29T18:37:03.782723Z"
    }
   },
   "cell_type": "code",
   "source": [
    "def summation_using_accumulate(n, term):\n",
    "    \"\"\"Returns the sum: term(1) + ... + term(n), using accumulate.\"\"\"\n",
    "    return accumulate(add, 0, n, term)"
   ],
   "id": "dabd6b266127cf43",
   "outputs": [],
   "execution_count": 131
  },
  {
   "metadata": {
    "ExecuteTime": {
     "end_time": "2025-04-29T18:37:20.937023Z",
     "start_time": "2025-04-29T18:37:20.931511Z"
    }
   },
   "cell_type": "code",
   "source": [
    "print(summation_using_accumulate(5, square))\n",
    "print(summation_using_accumulate(5, triple))"
   ],
   "id": "719c93bd2f17174d",
   "outputs": [
    {
     "name": "stdout",
     "output_type": "stream",
     "text": [
      "55\n",
      "45\n"
     ]
    }
   ],
   "execution_count": 133
  },
  {
   "metadata": {
    "ExecuteTime": {
     "end_time": "2025-04-29T18:37:43.686284Z",
     "start_time": "2025-04-29T18:37:43.673359Z"
    }
   },
   "cell_type": "code",
   "source": [
    "def product_using_accumulate(n, term):\n",
    "    \"\"\"Returns the product: term(1) * ... * term(n), using accumulate.\"\"\"\n",
    "    return accumulate(mul, 1, n, term)"
   ],
   "id": "ad762f38b68cf688",
   "outputs": [],
   "execution_count": 134
  },
  {
   "metadata": {
    "ExecuteTime": {
     "end_time": "2025-04-29T18:37:57.324329Z",
     "start_time": "2025-04-29T18:37:57.318012Z"
    }
   },
   "cell_type": "code",
   "source": [
    "print(product_using_accumulate(4, square))\n",
    "print(product_using_accumulate(6, triple))"
   ],
   "id": "481bf55adec86739",
   "outputs": [
    {
     "name": "stdout",
     "output_type": "stream",
     "text": [
      "576\n",
      "524880\n"
     ]
    }
   ],
   "execution_count": 135
  },
  {
   "metadata": {},
   "cell_type": "markdown",
   "source": "",
   "id": "4996cd5aec12bee3"
  }
 ],
 "metadata": {},
 "nbformat": 4,
 "nbformat_minor": 5
}
